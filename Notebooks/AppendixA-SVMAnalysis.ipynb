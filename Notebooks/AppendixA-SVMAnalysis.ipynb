{
 "cells": [
  {
   "cell_type": "markdown",
   "metadata": {},
   "source": [
    "## SVM Analysis\n",
    "Author: Andy Malinsky"
   ]
  },
  {
   "cell_type": "code",
   "execution_count": 2,
   "metadata": {},
   "outputs": [],
   "source": [
    "import pandas as pd\n",
    "from sklearn.svm import LinearSVC\n",
    "from sklearn.model_selection import train_test_split\n",
    "from sklearn import metrics\n",
    "from sklearn.metrics import classification_report\n",
    "import numpy as np\n",
    "from sklearn.preprocessing import StandardScaler\n",
    "from sklearn import preprocessing\n",
    "from sklearn.model_selection import GridSearchCV \n",
    "from sklearn.linear_model import SGDClassifier\n",
    "from sklearn.model_selection import cross_val_score\n",
    "from sklearn.metrics.pairwise import cosine_similarity\n",
    "import matplotlib.pyplot as plt\n",
    "\n",
    "np.random.seed(24)"
   ]
  },
  {
   "cell_type": "markdown",
   "metadata": {},
   "source": [
    "## Data Preparation"
   ]
  },
  {
   "cell_type": "code",
   "execution_count": 3,
   "metadata": {},
   "outputs": [
    {
     "data": {
      "text/html": [
       "<div>\n",
       "<style scoped>\n",
       "    .dataframe tbody tr th:only-of-type {\n",
       "        vertical-align: middle;\n",
       "    }\n",
       "\n",
       "    .dataframe tbody tr th {\n",
       "        vertical-align: top;\n",
       "    }\n",
       "\n",
       "    .dataframe thead th {\n",
       "        text-align: right;\n",
       "    }\n",
       "</style>\n",
       "<table border=\"1\" class=\"dataframe\">\n",
       "  <thead>\n",
       "    <tr style=\"text-align: right;\">\n",
       "      <th></th>\n",
       "      <th>timestamp</th>\n",
       "      <th>back_x</th>\n",
       "      <th>back_y</th>\n",
       "      <th>back_z</th>\n",
       "      <th>thigh_x</th>\n",
       "      <th>thigh_y</th>\n",
       "      <th>thigh_z</th>\n",
       "      <th>label</th>\n",
       "    </tr>\n",
       "  </thead>\n",
       "  <tbody>\n",
       "    <tr>\n",
       "      <th>0</th>\n",
       "      <td>2019-01-12 00:00:00.000</td>\n",
       "      <td>-0.760242</td>\n",
       "      <td>0.299570</td>\n",
       "      <td>0.468570</td>\n",
       "      <td>-5.092732</td>\n",
       "      <td>-0.298644</td>\n",
       "      <td>0.709439</td>\n",
       "      <td>6</td>\n",
       "    </tr>\n",
       "    <tr>\n",
       "      <th>1</th>\n",
       "      <td>2019-01-12 00:00:00.010</td>\n",
       "      <td>-0.530138</td>\n",
       "      <td>0.281880</td>\n",
       "      <td>0.319987</td>\n",
       "      <td>0.900547</td>\n",
       "      <td>0.286944</td>\n",
       "      <td>0.340309</td>\n",
       "      <td>6</td>\n",
       "    </tr>\n",
       "    <tr>\n",
       "      <th>2</th>\n",
       "      <td>2019-01-12 00:00:00.020</td>\n",
       "      <td>-1.170922</td>\n",
       "      <td>0.186353</td>\n",
       "      <td>-0.167010</td>\n",
       "      <td>-0.035442</td>\n",
       "      <td>-0.078423</td>\n",
       "      <td>-0.515212</td>\n",
       "      <td>6</td>\n",
       "    </tr>\n",
       "    <tr>\n",
       "      <th>3</th>\n",
       "      <td>2019-01-12 00:00:00.030</td>\n",
       "      <td>-0.648772</td>\n",
       "      <td>0.016579</td>\n",
       "      <td>-0.054284</td>\n",
       "      <td>-1.554248</td>\n",
       "      <td>-0.950978</td>\n",
       "      <td>-0.221140</td>\n",
       "      <td>6</td>\n",
       "    </tr>\n",
       "    <tr>\n",
       "      <th>4</th>\n",
       "      <td>2019-01-12 00:00:00.040</td>\n",
       "      <td>-0.355071</td>\n",
       "      <td>-0.051831</td>\n",
       "      <td>-0.113419</td>\n",
       "      <td>-0.547471</td>\n",
       "      <td>0.140903</td>\n",
       "      <td>-0.653782</td>\n",
       "      <td>6</td>\n",
       "    </tr>\n",
       "  </tbody>\n",
       "</table>\n",
       "</div>"
      ],
      "text/plain": [
       "                 timestamp    back_x    back_y    back_z   thigh_x   thigh_y  \\\n",
       "0  2019-01-12 00:00:00.000 -0.760242  0.299570  0.468570 -5.092732 -0.298644   \n",
       "1  2019-01-12 00:00:00.010 -0.530138  0.281880  0.319987  0.900547  0.286944   \n",
       "2  2019-01-12 00:00:00.020 -1.170922  0.186353 -0.167010 -0.035442 -0.078423   \n",
       "3  2019-01-12 00:00:00.030 -0.648772  0.016579 -0.054284 -1.554248 -0.950978   \n",
       "4  2019-01-12 00:00:00.040 -0.355071 -0.051831 -0.113419 -0.547471  0.140903   \n",
       "\n",
       "    thigh_z  label  \n",
       "0  0.709439      6  \n",
       "1  0.340309      6  \n",
       "2 -0.515212      6  \n",
       "3 -0.221140      6  \n",
       "4 -0.653782      6  "
      ]
     },
     "execution_count": 3,
     "metadata": {},
     "output_type": "execute_result"
    }
   ],
   "source": [
    "# Load Data info dataframe\n",
    "datasets = ['harth/S006.csv', \n",
    "            'harth/S008.csv',\n",
    "            'harth/S009.csv',\n",
    "            'harth/S010.csv',\n",
    "            'harth/S012.csv',\n",
    "            'harth/S013.csv',\n",
    "            'harth/S014.csv',\n",
    "            'harth/S015.csv',\n",
    "            'harth/S016.csv',\n",
    "            'harth/S017.csv',\n",
    "            'harth/S018.csv',\n",
    "            'harth/S019.csv',\n",
    "            'harth/S020.csv',\n",
    "            'harth/S021.csv',\n",
    "            'harth/S022.csv',\n",
    "            'harth/S023.csv',\n",
    "            'harth/S024.csv',\n",
    "            'harth/S025.csv',\n",
    "            'harth/S026.csv',\n",
    "            'harth/S027.csv',\n",
    "            'harth/S028.csv',\n",
    "            'harth/S029.csv']\n",
    "df = pd.concat(map(pd.read_csv, datasets), ignore_index=True) \n",
    "df = df[['timestamp','back_x','back_y','back_z','thigh_x','thigh_y','thigh_z','label']]\n",
    "df.head()"
   ]
  },
  {
   "cell_type": "code",
   "execution_count": 4,
   "metadata": {},
   "outputs": [
    {
     "data": {
      "text/html": [
       "<div>\n",
       "<style scoped>\n",
       "    .dataframe tbody tr th:only-of-type {\n",
       "        vertical-align: middle;\n",
       "    }\n",
       "\n",
       "    .dataframe tbody tr th {\n",
       "        vertical-align: top;\n",
       "    }\n",
       "\n",
       "    .dataframe thead th {\n",
       "        text-align: right;\n",
       "    }\n",
       "</style>\n",
       "<table border=\"1\" class=\"dataframe\">\n",
       "  <thead>\n",
       "    <tr style=\"text-align: right;\">\n",
       "      <th></th>\n",
       "      <th>timestamp</th>\n",
       "      <th>back_x</th>\n",
       "      <th>back_y</th>\n",
       "      <th>back_z</th>\n",
       "      <th>thigh_x</th>\n",
       "      <th>thigh_y</th>\n",
       "      <th>thigh_z</th>\n",
       "      <th>label</th>\n",
       "    </tr>\n",
       "  </thead>\n",
       "  <tbody>\n",
       "    <tr>\n",
       "      <th>0</th>\n",
       "      <td>2019-01-12 00:00:00.000</td>\n",
       "      <td>-0.760242</td>\n",
       "      <td>0.299570</td>\n",
       "      <td>0.468570</td>\n",
       "      <td>-5.092732</td>\n",
       "      <td>-0.298644</td>\n",
       "      <td>0.709439</td>\n",
       "      <td>6: Standing</td>\n",
       "    </tr>\n",
       "    <tr>\n",
       "      <th>1</th>\n",
       "      <td>2019-01-12 00:00:00.010</td>\n",
       "      <td>-0.530138</td>\n",
       "      <td>0.281880</td>\n",
       "      <td>0.319987</td>\n",
       "      <td>0.900547</td>\n",
       "      <td>0.286944</td>\n",
       "      <td>0.340309</td>\n",
       "      <td>6: Standing</td>\n",
       "    </tr>\n",
       "    <tr>\n",
       "      <th>2</th>\n",
       "      <td>2019-01-12 00:00:00.020</td>\n",
       "      <td>-1.170922</td>\n",
       "      <td>0.186353</td>\n",
       "      <td>-0.167010</td>\n",
       "      <td>-0.035442</td>\n",
       "      <td>-0.078423</td>\n",
       "      <td>-0.515212</td>\n",
       "      <td>6: Standing</td>\n",
       "    </tr>\n",
       "    <tr>\n",
       "      <th>3</th>\n",
       "      <td>2019-01-12 00:00:00.030</td>\n",
       "      <td>-0.648772</td>\n",
       "      <td>0.016579</td>\n",
       "      <td>-0.054284</td>\n",
       "      <td>-1.554248</td>\n",
       "      <td>-0.950978</td>\n",
       "      <td>-0.221140</td>\n",
       "      <td>6: Standing</td>\n",
       "    </tr>\n",
       "    <tr>\n",
       "      <th>4</th>\n",
       "      <td>2019-01-12 00:00:00.040</td>\n",
       "      <td>-0.355071</td>\n",
       "      <td>-0.051831</td>\n",
       "      <td>-0.113419</td>\n",
       "      <td>-0.547471</td>\n",
       "      <td>0.140903</td>\n",
       "      <td>-0.653782</td>\n",
       "      <td>6: Standing</td>\n",
       "    </tr>\n",
       "    <tr>\n",
       "      <th>...</th>\n",
       "      <td>...</td>\n",
       "      <td>...</td>\n",
       "      <td>...</td>\n",
       "      <td>...</td>\n",
       "      <td>...</td>\n",
       "      <td>...</td>\n",
       "      <td>...</td>\n",
       "      <td>...</td>\n",
       "    </tr>\n",
       "    <tr>\n",
       "      <th>6461323</th>\n",
       "      <td>2019-01-12 00:59:56.940</td>\n",
       "      <td>-1.012939</td>\n",
       "      <td>-0.110840</td>\n",
       "      <td>-0.218994</td>\n",
       "      <td>-0.970215</td>\n",
       "      <td>-0.313232</td>\n",
       "      <td>0.124268</td>\n",
       "      <td>3: Shuffling</td>\n",
       "    </tr>\n",
       "    <tr>\n",
       "      <th>6461324</th>\n",
       "      <td>2019-01-12 00:59:56.960</td>\n",
       "      <td>-0.979492</td>\n",
       "      <td>-0.089355</td>\n",
       "      <td>-0.216553</td>\n",
       "      <td>-0.966553</td>\n",
       "      <td>-0.234619</td>\n",
       "      <td>0.113770</td>\n",
       "      <td>3: Shuffling</td>\n",
       "    </tr>\n",
       "    <tr>\n",
       "      <th>6461325</th>\n",
       "      <td>2019-01-12 00:59:56.980</td>\n",
       "      <td>-0.969971</td>\n",
       "      <td>-0.057861</td>\n",
       "      <td>-0.204590</td>\n",
       "      <td>-0.997803</td>\n",
       "      <td>-0.097656</td>\n",
       "      <td>0.065186</td>\n",
       "      <td>3: Shuffling</td>\n",
       "    </tr>\n",
       "    <tr>\n",
       "      <th>6461326</th>\n",
       "      <td>2019-01-12 00:59:57.000</td>\n",
       "      <td>-1.001953</td>\n",
       "      <td>-0.029785</td>\n",
       "      <td>-0.234863</td>\n",
       "      <td>-1.000000</td>\n",
       "      <td>-0.145996</td>\n",
       "      <td>0.061523</td>\n",
       "      <td>3: Shuffling</td>\n",
       "    </tr>\n",
       "    <tr>\n",
       "      <th>6461327</th>\n",
       "      <td>2019-01-12 00:59:57.020</td>\n",
       "      <td>-1.015381</td>\n",
       "      <td>-0.030762</td>\n",
       "      <td>-0.218262</td>\n",
       "      <td>-1.000244</td>\n",
       "      <td>-0.305420</td>\n",
       "      <td>0.076904</td>\n",
       "      <td>3: Shuffling</td>\n",
       "    </tr>\n",
       "  </tbody>\n",
       "</table>\n",
       "<p>6461328 rows × 8 columns</p>\n",
       "</div>"
      ],
      "text/plain": [
       "                       timestamp    back_x    back_y    back_z   thigh_x  \\\n",
       "0        2019-01-12 00:00:00.000 -0.760242  0.299570  0.468570 -5.092732   \n",
       "1        2019-01-12 00:00:00.010 -0.530138  0.281880  0.319987  0.900547   \n",
       "2        2019-01-12 00:00:00.020 -1.170922  0.186353 -0.167010 -0.035442   \n",
       "3        2019-01-12 00:00:00.030 -0.648772  0.016579 -0.054284 -1.554248   \n",
       "4        2019-01-12 00:00:00.040 -0.355071 -0.051831 -0.113419 -0.547471   \n",
       "...                          ...       ...       ...       ...       ...   \n",
       "6461323  2019-01-12 00:59:56.940 -1.012939 -0.110840 -0.218994 -0.970215   \n",
       "6461324  2019-01-12 00:59:56.960 -0.979492 -0.089355 -0.216553 -0.966553   \n",
       "6461325  2019-01-12 00:59:56.980 -0.969971 -0.057861 -0.204590 -0.997803   \n",
       "6461326  2019-01-12 00:59:57.000 -1.001953 -0.029785 -0.234863 -1.000000   \n",
       "6461327  2019-01-12 00:59:57.020 -1.015381 -0.030762 -0.218262 -1.000244   \n",
       "\n",
       "          thigh_y   thigh_z         label  \n",
       "0       -0.298644  0.709439   6: Standing  \n",
       "1        0.286944  0.340309   6: Standing  \n",
       "2       -0.078423 -0.515212   6: Standing  \n",
       "3       -0.950978 -0.221140   6: Standing  \n",
       "4        0.140903 -0.653782   6: Standing  \n",
       "...           ...       ...           ...  \n",
       "6461323 -0.313232  0.124268  3: Shuffling  \n",
       "6461324 -0.234619  0.113770  3: Shuffling  \n",
       "6461325 -0.097656  0.065186  3: Shuffling  \n",
       "6461326 -0.145996  0.061523  3: Shuffling  \n",
       "6461327 -0.305420  0.076904  3: Shuffling  \n",
       "\n",
       "[6461328 rows x 8 columns]"
      ]
     },
     "execution_count": 4,
     "metadata": {},
     "output_type": "execute_result"
    }
   ],
   "source": [
    "activity_label = {\n",
    "    1: '1: Walking',\n",
    "    2: '2: Running',\n",
    "    3: '3: Shuffling',\n",
    "    4: '4: Stairs (Ascending)',\n",
    "    5: '5: Stairs (Descending)',\n",
    "    6: '6: Standing',\n",
    "    7: '7: Sitting',\n",
    "    8: '8: Lying',\n",
    "    13: '9: Cycling (Sit)',\n",
    "    14: '10: Cycling (Stand)',\n",
    "    130: '11: Cycling (Sit, Inactive)',\n",
    "    140: '12: Cycling (Stand, Inactive)'\n",
    "}\n",
    "df_map = df.copy()\n",
    "df_map['label'] = df['label'].replace(activity_label)\n",
    "df_map"
   ]
  },
  {
   "cell_type": "code",
   "execution_count": 5,
   "metadata": {},
   "outputs": [],
   "source": [
    "# function to split into scaled independent and dependent\n",
    "def split_and_scale_data(df, cal_test=False):\n",
    "    # Split Features Into Independent and Dependent\n",
    "    x = df[['back_x','back_y','back_z','thigh_x','thigh_y','thigh_z']]\n",
    "    y = df[['label']].values.ravel()\n",
    "    \n",
    "    # Standardize and Normalize Data\n",
    "    scaler = StandardScaler().fit(x)\n",
    "    min_max_scaler = preprocessing.MinMaxScaler()\n",
    "    x_scaled = pd.DataFrame(min_max_scaler.fit_transform(scaler.transform(x)), columns=list(x.columns.tolist()), index=x.index)\n",
    "    if not cal_test:\n",
    "        print('Mean:\\n', x_scaled.mean())\n",
    "        print('\\nStandard deviation:\\n', x_scaled.std())\n",
    "    x_scaled.head()\n",
    "    \n",
    "    return x_scaled, y"
   ]
  },
  {
   "cell_type": "code",
   "execution_count": 6,
   "metadata": {},
   "outputs": [
    {
     "name": "stdout",
     "output_type": "stream",
     "text": [
      "Mean:\n",
      " back_x     0.691337\n",
      "back_y     0.397642\n",
      "back_z     0.557743\n",
      "thigh_x    0.462827\n",
      "thigh_y    0.501229\n",
      "thigh_z    0.510472\n",
      "dtype: float64\n",
      "\n",
      "Standard deviation:\n",
      " back_x     0.036689\n",
      "back_y     0.021406\n",
      "back_z     0.031761\n",
      "thigh_x    0.039147\n",
      "thigh_y    0.024283\n",
      "thigh_z    0.044867\n",
      "dtype: float64\n"
     ]
    }
   ],
   "source": [
    "x_scaled, y = split_and_scale_data(df_map)"
   ]
  },
  {
   "cell_type": "markdown",
   "metadata": {},
   "source": [
    "## Exploratory Data Analysis"
   ]
  },
  {
   "cell_type": "code",
   "execution_count": 81,
   "metadata": {},
   "outputs": [
    {
     "data": {
      "image/png": "[encoded data removed]",
      "text/plain": [
       "<Figure size 864x576 with 1 Axes>"
      ]
     },
     "metadata": {
      "needs_background": "light"
     },
     "output_type": "display_data"
    }
   ],
   "source": [
    "# Histogram of activity label value counts\n",
    "fig = plt.figure(figsize=(12,8))\n",
    "ax = fig.add_subplot()\n",
    "df_map[['label']].value_counts().sort_index().plot(kind='bar', ax=ax, edgecolor='black')\n",
    "ax.set_xlabel('Activity Label')\n",
    "ax.set_ylabel('Count')\n",
    "ax.set_title('Value Counts for Activitity Labels')\n",
    "fig.tight_layout()\n",
    "plt.xticks(rotation=45)\n",
    "plt.show()"
   ]
  },
  {
   "cell_type": "markdown",
   "metadata": {},
   "source": [
    "## SVM Model Training and Analysis"
   ]
  },
  {
   "cell_type": "code",
   "execution_count": 7,
   "metadata": {},
   "outputs": [
    {
     "name": "stdout",
     "output_type": "stream",
     "text": [
      "x_train shape: (5169062, 6)\n",
      "x_test shape: (1292266, 6)\n",
      "y_train shape: (5169062,)\n",
      "y_test shape: (1292266,)\n"
     ]
    }
   ],
   "source": [
    "x_train, x_test, y_train, y_test = train_test_split(x_scaled, y, test_size=0.2, random_state=24)\n",
    "print('x_train shape:', x_train.shape)\n",
    "print('x_test shape:', x_test.shape)\n",
    "print('y_train shape:', y_train.shape)\n",
    "print('y_test shape:', y_test.shape)"
   ]
  },
  {
   "cell_type": "code",
   "execution_count": 6,
   "metadata": {},
   "outputs": [
    {
     "name": "stdout",
     "output_type": "stream",
     "text": [
      "Accuracy: 0.6210710488397899\n",
      "              precision    recall  f1-score   support\n",
      "\n",
      "           1       0.51      0.13      0.21    239884\n",
      "           2       0.20      0.00      0.00     57811\n",
      "           3       0.00      0.00      0.00     50976\n",
      "           4       0.00      0.00      0.00     15231\n",
      "           5       0.00      0.00      0.00     13446\n",
      "           6       0.35      0.88      0.51    148400\n",
      "           7       0.76      0.98      0.86    580847\n",
      "           8       0.61      0.83      0.70     85958\n",
      "          13       0.00      0.00      0.00     78645\n",
      "          14       0.02      0.00      0.00     11171\n",
      "         130       0.00      0.00      0.00      8314\n",
      "         140       0.00      0.00      0.00      1583\n",
      "\n",
      "    accuracy                           0.62   1292266\n",
      "   macro avg       0.21      0.24      0.19   1292266\n",
      "weighted avg       0.53      0.62      0.53   1292266\n",
      "\n"
     ]
    }
   ],
   "source": [
    "clf = SGDClassifier(random_state=24)\n",
    "clf.fit(x_train, y_train) \n",
    "y_pred = clf.predict(x_test)\n",
    "print(\"Accuracy:\", metrics.accuracy_score(y_test, y_pred)) # Evaluate model performance\n",
    "print(classification_report(y_test, y_pred))"
   ]
  },
  {
   "cell_type": "markdown",
   "metadata": {},
   "source": [
    "## Hyperparameter Tuning"
   ]
  },
  {
   "cell_type": "code",
   "execution_count": 11,
   "metadata": {},
   "outputs": [
    {
     "name": "stdout",
     "output_type": "stream",
     "text": [
      "Fitting 5 folds for each of 24 candidates, totalling 120 fits\n"
     ]
    },
    {
     "name": "stderr",
     "output_type": "stream",
     "text": [
      "[Parallel(n_jobs=-1)]: Using backend LokyBackend with 12 concurrent workers.\n",
      "[Parallel(n_jobs=-1)]: Done   8 tasks      | elapsed:  2.4min\n",
      "[Parallel(n_jobs=-1)]: Done 120 out of 120 | elapsed: 28.2min finished\n"
     ]
    },
    {
     "name": "stdout",
     "output_type": "stream",
     "text": [
      "{'alpha': 1e-07, 'loss': 'hinge', 'n_jobs': -1, 'random_state': 24}\n",
      "SGDClassifier(alpha=1e-07, n_jobs=-1, random_state=24)\n"
     ]
    }
   ],
   "source": [
    "param_grid = {\n",
    "    'alpha': [1, 1e-1, 1e-2, 1e-3, 1e-4, 1e-5, 1e-6, 1e-7], # learning rate\n",
    "    'loss': ['log', 'hinge', 'modified_huber'], # loss function\n",
    "    'n_jobs': [-1],\n",
    "    'random_state': [24]\n",
    "}\n",
    "grid = GridSearchCV(SGDClassifier(), param_grid, refit = True, verbose = 3, cv=5, n_jobs=-1) # 5 fold cross validation\n",
    "grid.fit(x_train, y_train) # fitting the model for grid search \n",
    "print(grid.best_params_) # print best parameter after tuning \n",
    "print(grid.best_estimator_) # print how our model looks after hyper-parameter tuning "
   ]
  },
  {
   "cell_type": "code",
   "execution_count": 8,
   "metadata": {},
   "outputs": [
    {
     "name": "stdout",
     "output_type": "stream",
     "text": [
      "Accuracy: 0.63\n",
      "                               precision    recall  f1-score   support\n",
      "\n",
      "          10: Cycling (Stand)       0.00      0.00      0.00     11171\n",
      "  11: Cycling (Sit, Inactive)       0.00      0.00      0.00      8314\n",
      "12: Cycling (Stand, Inactive)       0.00      0.00      0.00      1583\n",
      "                   1: Walking       0.46      0.10      0.16    239884\n",
      "                   2: Running       0.41      0.02      0.04     57811\n",
      "                 3: Shuffling       0.00      0.00      0.00     50976\n",
      "        4: Stairs (Ascending)       0.00      0.00      0.00     15231\n",
      "       5: Stairs (Descending)       0.00      0.00      0.00     13446\n",
      "                  6: Standing       0.31      0.97      0.46    148400\n",
      "                   7: Sitting       0.85      0.98      0.91    580847\n",
      "                     8: Lying       0.82      0.90      0.85     85958\n",
      "             9: Cycling (Sit)       0.00      0.00      0.00     78645\n",
      "\n",
      "                     accuracy                           0.63   1292266\n",
      "                    macro avg       0.24      0.25      0.20   1292266\n",
      "                 weighted avg       0.57      0.63      0.55   1292266\n",
      "\n"
     ]
    }
   ],
   "source": [
    "clf = SGDClassifier(alpha=1e-7, loss='hinge', random_state=24, n_jobs=-1)\n",
    "clf.fit(x_train, y_train)\n",
    "y_pred = clf.predict(x_test)\n",
    "print(\"Accuracy:\", round(metrics.accuracy_score(y_test, y_pred), 2)) # Evaluate model performance\n",
    "print(classification_report(y_test, y_pred))"
   ]
  },
  {
   "cell_type": "code",
   "execution_count": 14,
   "metadata": {},
   "outputs": [
    {
     "name": "stdout",
     "output_type": "stream",
     "text": [
      "5 K-Fold Validation Average Score: 0.61\n"
     ]
    }
   ],
   "source": [
    "# K-Fold Cross Validation\n",
    "scores = cross_val_score(clf, x_scaled, y, cv=5, n_jobs=-1)\n",
    "print('5 K-Fold Validation Average Score:', round(np.mean(scores), 2))"
   ]
  },
  {
   "cell_type": "markdown",
   "metadata": {},
   "source": [
    "## Metabolic Calorie Counter Experiment"
   ]
  },
  {
   "cell_type": "code",
   "execution_count": 52,
   "metadata": {},
   "outputs": [],
   "source": [
    "# Hypothetical calorie burn values (calories per minute) based on activity intensity\n",
    "calorie_burn_rates = {\n",
    "    1: 4,       # 'Walking'\n",
    "    2: 10,      # 'Running'\n",
    "    3: 3,       # 'Shuffling'\n",
    "    4: 8,       # 'Stairs (Ascending)'\n",
    "    5: 7,       # 'Stairs (Descending)'\n",
    "    6: 1.5,     # 'Standing'\n",
    "    7: 1,       # 'Sitting'\n",
    "    8: 0.8,     # 'Lying'\n",
    "    13: 6,      # 'Cycling (Sit)'\n",
    "    14: 9,      # 'Cycling (Stand)'\n",
    "    130: 2,     # 'Cycling (Sit, Inactive)'\n",
    "    140: 2.5    # 'Cycling (Stand, Inactive)'\n",
    "}\n",
    "activity_label_inv = {v: k for k, v in activity_label.items()} # inverse label map\n",
    "\n",
    "# Function to test prediction per person\n",
    "def predict_calories_burned(dataPath):\n",
    "    print('\\nRunning Test for:', dataPath)\n",
    "    data = pd.read_csv(dataPath)\n",
    "    d_x, d_y = split_and_scale_data(data, True)\n",
    "    d_pred = list(map(activity_label_inv.get, clf.predict(d_x)))\n",
    "    cosine_sim = round(cosine_similarity([d_pred], [d_y])[0][0], 2)\n",
    "    label_variance = round(np.var(d_y), 2)\n",
    "    print('Cosine similarity Predicted vs Actual:', cosine_sim) # cosine similarity of predicted vs actual labels\n",
    "    \n",
    "    # Calculate calories burned on actual vs predicted\n",
    "    sum_act_cal = 0\n",
    "    sum_pred_cal = 0\n",
    "    for i in range(0, len(d_y)):\n",
    "        sum_act_cal += calorie_burn_rates[d_y[i]]\n",
    "        sum_pred_cal += calorie_burn_rates[d_pred[i]]\n",
    "    print('Total Actual Calories Burned:', round(sum_act_cal, 2))\n",
    "    print('Total Predicted Calories Burned:', round(sum_pred_cal, 2))\n",
    "    total_error = abs(round(sum_pred_cal - sum_act_cal, 2))\n",
    "    print('Total Error (Predicted - Actual):', total_error)\n",
    "    print('Variance in labels:', label_variance)\n",
    "    \n",
    "    return cosine_sim, label_variance, total_error"
   ]
  },
  {
   "cell_type": "code",
   "execution_count": 53,
   "metadata": {},
   "outputs": [
    {
     "name": "stdout",
     "output_type": "stream",
     "text": [
      "\n",
      "Running Test for: harth/S006.csv\n",
      "Cosine similarity Predicted vs Actual: 0.45\n",
      "Total Actual Calories Burned: 717915.8\n",
      "Total Predicted Calories Burned: 408895.3\n",
      "Total Error (Predicted - Actual): 309020.5\n",
      "Variance in labels: 413.24\n",
      "\n",
      "Running Test for: harth/S008.csv\n",
      "Cosine similarity Predicted vs Actual: 0.72\n",
      "Total Actual Calories Burned: 628091.0\n",
      "Total Predicted Calories Burned: 419536.5\n",
      "Total Error (Predicted - Actual): 208554.5\n",
      "Variance in labels: 41.55\n",
      "\n",
      "Running Test for: harth/S009.csv\n",
      "Cosine similarity Predicted vs Actual: 0.56\n",
      "Total Actual Calories Burned: 879852.0\n",
      "Total Predicted Calories Burned: 159519.2\n",
      "Total Error (Predicted - Actual): 720332.8\n",
      "Variance in labels: 887.37\n",
      "\n",
      "Running Test for: harth/S010.csv\n",
      "Cosine similarity Predicted vs Actual: 0.79\n",
      "Total Actual Calories Burned: 1046180.5\n",
      "Total Predicted Calories Burned: 349134.1\n",
      "Total Error (Predicted - Actual): 697046.4\n",
      "Variance in labels: 6.37\n",
      "\n",
      "Running Test for: harth/S012.csv\n",
      "Cosine similarity Predicted vs Actual: 0.98\n",
      "Total Actual Calories Burned: 509727.6\n",
      "Total Predicted Calories Burned: 383052.6\n",
      "Total Error (Predicted - Actual): 126675.0\n",
      "Variance in labels: 1.77\n",
      "\n",
      "Running Test for: harth/S013.csv\n",
      "Cosine similarity Predicted vs Actual: 0.89\n",
      "Total Actual Calories Burned: 659159.7\n",
      "Total Predicted Calories Burned: 368903.2\n",
      "Total Error (Predicted - Actual): 290256.5\n",
      "Variance in labels: 8.66\n",
      "\n",
      "Running Test for: harth/S014.csv\n",
      "Cosine similarity Predicted vs Actual: 0.95\n",
      "Total Actual Calories Burned: 626344.5\n",
      "Total Predicted Calories Burned: 367310.5\n",
      "Total Error (Predicted - Actual): 259034.0\n",
      "Variance in labels: 4.0\n",
      "\n",
      "Running Test for: harth/S015.csv\n",
      "Cosine similarity Predicted vs Actual: 0.93\n",
      "Total Actual Calories Burned: 794834.6\n",
      "Total Predicted Calories Burned: 419481.5\n",
      "Total Error (Predicted - Actual): 375353.1\n",
      "Variance in labels: 5.93\n",
      "\n",
      "Running Test for: harth/S016.csv\n",
      "Cosine similarity Predicted vs Actual: 0.84\n",
      "Total Actual Calories Burned: 622488.8\n",
      "Total Predicted Calories Burned: 357415.0\n",
      "Total Error (Predicted - Actual): 265073.8\n",
      "Variance in labels: 16.52\n",
      "\n",
      "Running Test for: harth/S017.csv\n",
      "Cosine similarity Predicted vs Actual: 0.67\n",
      "Total Actual Calories Burned: 689140.9\n",
      "Total Predicted Calories Burned: 374564.7\n",
      "Total Error (Predicted - Actual): 314576.2\n",
      "Variance in labels: 57.02\n",
      "\n",
      "Running Test for: harth/S018.csv\n",
      "Cosine similarity Predicted vs Actual: 0.82\n",
      "Total Actual Calories Burned: 771303.6\n",
      "Total Predicted Calories Burned: 331929.7\n",
      "Total Error (Predicted - Actual): 439373.9\n",
      "Variance in labels: 15.07\n",
      "\n",
      "Running Test for: harth/S019.csv\n",
      "Cosine similarity Predicted vs Actual: 0.81\n",
      "Total Actual Calories Burned: 578397.3\n",
      "Total Predicted Calories Burned: 298986.6\n",
      "Total Error (Predicted - Actual): 279410.7\n",
      "Variance in labels: 21.6\n",
      "\n",
      "Running Test for: harth/S020.csv\n",
      "Cosine similarity Predicted vs Actual: 0.76\n",
      "Total Actual Calories Burned: 639606.6\n",
      "Total Predicted Calories Burned: 376164.6\n",
      "Total Error (Predicted - Actual): 263442.0\n",
      "Variance in labels: 32.99\n",
      "\n",
      "Running Test for: harth/S021.csv\n",
      "Cosine similarity Predicted vs Actual: 0.93\n",
      "Total Actual Calories Burned: 558616.6\n",
      "Total Predicted Calories Burned: 303889.5\n",
      "Total Error (Predicted - Actual): 254727.1\n",
      "Variance in labels: 5.81\n",
      "\n",
      "Running Test for: harth/S022.csv\n",
      "Cosine similarity Predicted vs Actual: 0.51\n",
      "Total Actual Calories Burned: 772967.6\n",
      "Total Predicted Calories Burned: 338264.6\n",
      "Total Error (Predicted - Actual): 434703.0\n",
      "Variance in labels: 114.11\n",
      "\n",
      "Running Test for: harth/S023.csv\n",
      "Cosine similarity Predicted vs Actual: 0.76\n",
      "Total Actual Calories Burned: 591624.7\n",
      "Total Predicted Calories Burned: 129810.8\n",
      "Total Error (Predicted - Actual): 461813.9\n",
      "Variance in labels: 7.32\n",
      "\n",
      "Running Test for: harth/S024.csv\n",
      "Cosine similarity Predicted vs Actual: 0.78\n",
      "Total Actual Calories Burned: 694795.6\n",
      "Total Predicted Calories Burned: 168418.4\n",
      "Total Error (Predicted - Actual): 526377.2\n",
      "Variance in labels: 8.33\n",
      "\n",
      "Running Test for: harth/S025.csv\n",
      "Cosine similarity Predicted vs Actual: 0.4\n",
      "Total Actual Calories Burned: 1178107.6\n",
      "Total Predicted Calories Burned: 271209.3\n",
      "Total Error (Predicted - Actual): 906898.3\n",
      "Variance in labels: 573.4\n",
      "\n",
      "Running Test for: harth/S026.csv\n",
      "Cosine similarity Predicted vs Actual: 0.49\n",
      "Total Actual Calories Burned: 1152734.0\n",
      "Total Predicted Calories Burned: 194839.0\n",
      "Total Error (Predicted - Actual): 957895.0\n",
      "Variance in labels: 924.68\n",
      "\n",
      "Running Test for: harth/S027.csv\n",
      "Cosine similarity Predicted vs Actual: 0.83\n",
      "Total Actual Calories Burned: 1351874.7\n",
      "Total Predicted Calories Burned: 149450.5\n",
      "Total Error (Predicted - Actual): 1202424.2\n",
      "Variance in labels: 3.68\n",
      "\n",
      "Running Test for: harth/S028.csv\n",
      "Cosine similarity Predicted vs Actual: 0.7\n",
      "Total Actual Calories Burned: 632109.1\n",
      "Total Predicted Calories Burned: 160545.4\n",
      "Total Error (Predicted - Actual): 471563.7\n",
      "Variance in labels: 2.35\n",
      "\n",
      "Running Test for: harth/S029.csv\n",
      "Cosine similarity Predicted vs Actual: 0.3\n",
      "Total Actual Calories Burned: 781709.1\n",
      "Total Predicted Calories Burned: 195741.0\n",
      "Total Error (Predicted - Actual): 585968.1\n",
      "Variance in labels: 153.31\n"
     ]
    }
   ],
   "source": [
    "# Run Calorie Test on All Data Samples\n",
    "cosine_similarities = []\n",
    "label_variances = []\n",
    "total_errors = []\n",
    "\n",
    "for dataset in datasets:\n",
    "    cosine_sim, label_variance, total_error =  predict_calories_burned(dataset)\n",
    "    cosine_similarities.append(cosine_sim)\n",
    "    label_variances.append(label_variance)\n",
    "    total_errors.append(total_error)"
   ]
  },
  {
   "cell_type": "code",
   "execution_count": 55,
   "metadata": {},
   "outputs": [
    {
     "data": {
      "image/png": "[encoded data removed]",
      "text/plain": [
       "<Figure size 720x504 with 1 Axes>"
      ]
     },
     "metadata": {
      "needs_background": "light"
     },
     "output_type": "display_data"
    }
   ],
   "source": [
    "x = np.asarray(label_variances, dtype=np.float32)\n",
    "y = np.asarray(cosine_similarities, dtype=np.float32)\n",
    "\n",
    "fig = plt.figure(figsize=(10, 7))\n",
    "plt.scatter(x, y)\n",
    "plt.xlabel(\"Label Variance\", size=14)\n",
    "plt.ylabel(\"Cosine Similarity\", size=14)\n",
    "plt.title('Scatter Plot: Cosine Similarity vs Label Variance')\n",
    "a, b = np.polyfit(x, y, 1) # find line of best fit\n",
    "plt.plot(x, a*(x)+b) # add line of best fit to plot\n",
    "\n",
    "# calculate correlation using the covariance and standard deviations\n",
    "correlation = round((np.cov(x,y) / (x.std() * y.std()))[0,1], 2)\n",
    "plt.legend(['Best-Fit Line, Correlation: '+str(correlation)], loc='upper right')\n",
    "plt.show()"
   ]
  },
  {
   "cell_type": "code",
   "execution_count": 56,
   "metadata": {},
   "outputs": [
    {
     "data": {
      "image/png": "[encoded data removed]",
      "text/plain": [
       "<Figure size 720x504 with 1 Axes>"
      ]
     },
     "metadata": {
      "needs_background": "light"
     },
     "output_type": "display_data"
    }
   ],
   "source": [
    "x = np.asarray(total_errors, dtype=np.float32)\n",
    "y = np.asarray(cosine_similarities, dtype=np.float32)\n",
    "\n",
    "fig = plt.figure(figsize=(10, 7))\n",
    "plt.scatter(x, y)\n",
    "plt.xlabel(\"Total Error\", size=14)\n",
    "plt.ylabel(\"Cosine Similarity\", size=14)\n",
    "plt.title('Scatter Plot: Cosine Similarity vs Total Error')\n",
    "a, b = np.polyfit(x, y, 1) # find line of best fit\n",
    "plt.plot(x, a*(x)+b) # add line of best fit to plot\n",
    "\n",
    "# calculate correlation using the covariance and standard deviations\n",
    "correlation = round((np.cov(x,y) / (x.std() * y.std()))[0,1], 2)\n",
    "plt.legend(['Best-Fit Line, Correlation: '+str(correlation)], loc='upper right')\n",
    "plt.show()"
   ]
  },
  {
   "cell_type": "code",
   "execution_count": 57,
   "metadata": {},
   "outputs": [
    {
     "data": {
      "image/png": "[encoded data removed]",
      "text/plain": [
       "<Figure size 720x504 with 1 Axes>"
      ]
     },
     "metadata": {
      "needs_background": "light"
     },
     "output_type": "display_data"
    }
   ],
   "source": [
    "x = np.asarray(label_variances, dtype=np.float32)\n",
    "y = np.asarray(total_errors, dtype=np.float32)\n",
    "\n",
    "fig = plt.figure(figsize=(10, 7))\n",
    "plt.scatter(x, y)\n",
    "plt.xlabel(\"Label Variance\", size=14)\n",
    "plt.ylabel(\"Total Error\", size=14)\n",
    "plt.title('Scatter Plot: Label Variance vs Total Error')\n",
    "a, b = np.polyfit(x, y, 1) # find line of best fit\n",
    "plt.plot(x, a*(x)+b) # add line of best fit to plot\n",
    "\n",
    "# calculate correlation using the covariance and standard deviations\n",
    "correlation = round((np.cov(x,y) / (x.std() * y.std()))[0,1], 2)\n",
    "plt.legend(['Best-Fit Line, Correlation: '+str(correlation)], loc='upper right')\n",
    "plt.show()"
   ]
  }
 ],
 "metadata": {
  "kernelspec": {
   "display_name": "Python 3 (ipykernel)",
   "language": "python",
   "name": "python3"
  },
  "language_info": {
   "codemirror_mode": {
    "name": "ipython",
    "version": 3
   },
   "file_extension": ".py",
   "mimetype": "text/x-python",
   "name": "python",
   "nbconvert_exporter": "python",
   "pygments_lexer": "ipython3",
   "version": "3.7.4"
  }
 },
 "nbformat": 4,
 "nbformat_minor": 2
}
